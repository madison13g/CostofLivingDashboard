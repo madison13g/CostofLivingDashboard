{
 "cells": [
  {
   "cell_type": "code",
   "execution_count": 3,
   "metadata": {},
   "outputs": [],
   "source": [
    "import pandas as pd\n",
    "import re\n",
    "df = pd.read_csv(\"../data_extra.csv\") \n"
   ]
  },
  {
   "cell_type": "code",
   "execution_count": 4,
   "metadata": {},
   "outputs": [
    {
     "name": "stderr",
     "output_type": "stream",
     "text": [
      "/var/folders/s3/n5xms5qx46g0fqvxml0bhs6m0000gn/T/ipykernel_30912/98643201.py:8: SettingWithCopyWarning: \n",
      "A value is trying to be set on a copy of a slice from a DataFrame\n",
      "\n",
      "See the caveats in the documentation: https://pandas.pydata.org/pandas-docs/stable/user_guide/indexing.html#returning-a-view-versus-a-copy\n",
      "  pop.rename(columns={'GEO':'city', 'VALUE': 'population'}, inplace=True)\n",
      "/var/folders/s3/n5xms5qx46g0fqvxml0bhs6m0000gn/T/ipykernel_30912/98643201.py:12: SettingWithCopyWarning: \n",
      "A value is trying to be set on a copy of a slice from a DataFrame.\n",
      "Try using .loc[row_indexer,col_indexer] = value instead\n",
      "\n",
      "See the caveats in the documentation: https://pandas.pydata.org/pandas-docs/stable/user_guide/indexing.html#returning-a-view-versus-a-copy\n",
      "  pop['city'] = pop['city'].apply(lambda x: re.sub(\"[é]\",\"e\",x))\n"
     ]
    }
   ],
   "source": [
    "# importing data from stats can\n",
    "statscan = pd.read_csv(\"../source_data/statscanpopulations.csv\")\n",
    "statscan.head()\n",
    "#  How to cite: Statistics Canada. Table 98-10-0002-01  Population and dwelling counts: Canada and census subdivisions (municipalities)\n",
    "\n",
    "# taking only city and population columns, renaming\n",
    "pop = statscan.iloc[:,[1,10]]\n",
    "pop.rename(columns={'GEO':'city', 'VALUE': 'population'}, inplace=True)\n",
    "df.rename(columns={'population':'badpopulation'}, inplace=True)\n",
    "\n",
    "## replacing accents\n",
    "pop['city'] = pop['city'].apply(lambda x: re.sub(\"[é]\",\"e\",x))\n",
    "\n",
    "#checking accents got changed\n",
    "#pop[pop['population']>500000]\n",
    "\n",
    "# merging\n",
    "total_df = pd.merge(df, pop, how='left', on=['city'])\n",
    "total_df.drop(['badpopulation'], axis = 1, inplace=True)\n",
    "\n",
    "\n",
    "# check for duplicates\n",
    "from collections import Counter\n",
    "cities_lst_t = df['city'].tolist()\n",
    "counts = dict(Counter(cities_lst_t))\n",
    "duplicates = {key:value for key, value in counts.items() if value > 1}\n",
    "print(duplicates)\n",
    "\n",
    "# after checking which is correct value from stats can website\n",
    "# removing Victoria, Hamilton, Windsor, Richmond, Burlington, Sherbrooke, Cambridge,\n",
    "# Langley, Moncton: kept ones with larger population\n",
    "total_df.drop([10,11,12,13,17,26,31,32,35,39,47,52,54,56,69,85], inplace=True) \n",
    "\n",
    "# fixing index and removing extra col\n",
    "total_df.reset_index(inplace=True)\n",
    "total_df.drop(['index', 'Unnamed: 0'], axis = 1, inplace=True)\n",
    "\n",
    "# see which values have population NA\n",
    "# could have avoided some by converting more accents\n",
    "total_df[pd.isna(total_df['population'])]\n",
    "\n",
    "# getting values from statscan website\n",
    "total_df.at[7,'population'] = 549459\n",
    "total_df.at[35,'population'] = 139163\n",
    "total_df.at[53,'population'] = 166004\n",
    "total_df.at[61,'population'] = 50815\n",
    "total_df.at[84,'population'] = 11843 +19739\n",
    "total_df.at[88,'population'] = 24569\n",
    "total_df.at[97,'population'] = 20118\n",
    "total_df.at[118,'population'] = 4940 + 159\n",
    "\n",
    "#total_df.to_csv('data.csv')\n",
    "total_df.to_csv('../data.csv')"
   ]
  },
  {
   "cell_type": "code",
   "execution_count": 32,
   "metadata": {},
   "outputs": [],
   "source": []
  },
  {
   "cell_type": "code",
   "execution_count": null,
   "metadata": {},
   "outputs": [],
   "source": []
  }
 ],
 "metadata": {
  "kernelspec": {
   "display_name": "Python 3",
   "language": "python",
   "name": "python3"
  },
  "language_info": {
   "codemirror_mode": {
    "name": "ipython",
    "version": 3
   },
   "file_extension": ".py",
   "mimetype": "text/x-python",
   "name": "python",
   "nbconvert_exporter": "python",
   "pygments_lexer": "ipython3",
   "version": "3.9.6"
  },
  "orig_nbformat": 4,
  "vscode": {
   "interpreter": {
    "hash": "31f2aee4e71d21fbe5cf8b01ff0e069b9275f58929596ceb00d14d90e3e16cd6"
   }
  }
 },
 "nbformat": 4,
 "nbformat_minor": 2
}
